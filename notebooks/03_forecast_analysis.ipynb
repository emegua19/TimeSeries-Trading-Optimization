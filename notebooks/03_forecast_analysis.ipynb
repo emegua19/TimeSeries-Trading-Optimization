{
 "cells": [
  {
   "cell_type": "code",
   "execution_count": null,
   "id": "54502712",
   "metadata": {
    "vscode": {
     "languageId": "plaintext"
    }
   },
   "outputs": [],
   "source": [
    "# Paths assume the repo root is the working directory.\n",
    "from pathlib import Path\n",
    "import warnings\n",
    "warnings.filterwarnings(\"ignore\")\n",
    "\n",
    "# --- Project paths\n",
    "ROOT = Path.cwd().resolve().parents[0] if Path.cwd().name == \"notebooks\" else Path.cwd()\n",
    "DATA = ROOT / \"data\"\n",
    "DATA_RAW = DATA / \"raw\"\n",
    "DATA_PROC = DATA / \"processed\"\n",
    "RESULT = ROOT / \"result\"\n",
    "FIG_DIR = RESULT / \"figures\"\n",
    "FINAL_DIR = RESULT / \"final\"\n",
    "CSV_DIR = RESULT / \"csv\"\n",
    "\n",
    "for p in [FIG_DIR, FINAL_DIR, CSV_DIR]:\n",
    "    p.mkdir(parents=True, exist_ok=True)\n",
    "\n",
    "print(\"Root:\", ROOT)\n",
    "print(\"Data:\", DATA)\n",
    "print(\"Saving figures to:\", FIG_DIR)\n",
    "print(\"Saving final artifacts to:\", FINAL_DIR)\n",
    "print(\"Saving CSVs to:\", CSV_DIR)\n",
    "\n",
    "# --- Packages\n",
    "import numpy as np\n",
    "import pandas as pd\n",
    "import matplotlib.pyplot as plt\n",
    "import seaborn as sns\n",
    "import math\n",
    "from datetime import timedelta\n",
    "\n",
    "from sklearn.metrics import mean_absolute_error, mean_squared_error\n",
    "from sklearn.preprocessing import MinMaxScaler\n",
    "\n",
    "import pmdarima as pm\n",
    "from statsmodels.tsa.statespace.sarimax import SARIMAX\n",
    "\n",
    "import yfinance as yf\n",
    "import tensorflow as tf\n",
    "from tensorflow.keras.models import Sequential\n",
    "from tensorflow.keras.layers import Dense, LSTM\n",
    "sns.set(style=\"whitegrid\", palette=\"muted\")\n"
   ]
  },
  {
   "cell_type": "code",
   "execution_count": null,
   "id": "6e9e6def",
   "metadata": {
    "vscode": {
     "languageId": "plaintext"
    }
   },
   "outputs": [],
   "source": [
    "TICKER = \"TSLA\"\n",
    "TARGET_COL = \"Close\"\n",
    "\n",
    "# Forecast horizon (months) — change to 6 or 12 as needed\n",
    "FORECAST_MONTHS = 12\n",
    "TRADING_DAYS_PER_MONTH = 21\n",
    "H = FORECAST_MONTHS * TRADING_DAYS_PER_MONTH  # forecast steps\n",
    "\n",
    "# LSTM hyperparameters\n",
    "TIME_STEP = 60\n",
    "EPOCHS = 20\n",
    "BATCH_SIZE = 32\n",
    "\n",
    "print(f\"Forecasting {FORECAST_MONTHS} months (~{H} trading days)\")\n"
   ]
  },
  {
   "cell_type": "code",
   "execution_count": null,
   "id": "7b876f94",
   "metadata": {
    "vscode": {
     "languageId": "plaintext"
    }
   },
   "outputs": [],
   "source": [
    "def load_tsla():\n",
    "    # 1) processed file\n",
    "    proc = DATA_PROC / \"TSLA_clean.csv\"\n",
    "    if proc.exists():\n",
    "        df = pd.read_csv(proc, parse_dates=[\"Date\"])\n",
    "        df = df.sort_values(\"Date\").reset_index(drop=True)\n",
    "        return df\n",
    "\n",
    "    # 2) raw file\n",
    "    raw = DATA_RAW / \"TSLA_raw.csv\"\n",
    "    if raw.exists():\n",
    "        df = pd.read_csv(raw, parse_dates=[\"Date\"])\n",
    "        df = df.sort_values(\"Date\").reset_index(drop=True)\n",
    "        return df\n",
    "\n",
    "    # 3) fallback: download\n",
    "    print(\"Local CSV not found. Downloading TSLA via yfinance...\")\n",
    "    df = yf.download(TICKER, start=\"2015-01-01\", progress=False).reset_index()\n",
    "    df = df.rename(columns={\"Adj Close\": \"AdjClose\"})\n",
    "    df.to_csv(raw, index=False)\n",
    "    print(\"Saved:\", raw)\n",
    "    return df\n",
    "\n",
    "df = load_tsla()\n",
    "assert {\"Date\", TARGET_COL}.issubset(df.columns), f\"Expected columns 'Date' & '{TARGET_COL}' in dataframe.\"\n",
    "df = df[[\"Date\", TARGET_COL]].dropna()\n",
    "df.tail()\n"
   ]
  },
  {
   "cell_type": "code",
   "execution_count": null,
   "id": "d53a7297",
   "metadata": {
    "vscode": {
     "languageId": "plaintext"
    }
   },
   "outputs": [],
   "source": [
    "plt.figure(figsize=(12,5))\n",
    "plt.plot(df[\"Date\"], df[TARGET_COL], label=f\"{TICKER} Close\")\n",
    "plt.title(f\"{TICKER} Price History\")\n",
    "plt.xlabel(\"Date\"); plt.ylabel(\"Price\")\n",
    "plt.legend(); plt.tight_layout()\n",
    "plt.show()\n"
   ]
  },
  {
   "cell_type": "code",
   "execution_count": null,
   "id": "c4a9a677",
   "metadata": {
    "vscode": {
     "languageId": "plaintext"
    }
   },
   "outputs": [],
   "source": [
    "series = df[TARGET_COL].astype(float).values\n",
    "\n",
    "# Auto ARIMA to find (p,d,q)\n",
    "arima_model = pm.auto_arima(\n",
    "    series,\n",
    "    seasonal=False,\n",
    "    stepwise=True,\n",
    "    suppress_warnings=True,\n",
    "    error_action=\"ignore\",\n",
    "    maxiter=50\n",
    ")\n",
    "print(arima_model.summary())\n",
    "\n",
    "# Forecast H steps with 95% CI\n",
    "arima_fc, arima_ci = arima_model.predict(n_periods=H, return_conf_int=True, alpha=0.05)\n",
    "\n",
    "# Build future date index (business days aligned to daily freq using last date)\n",
    "last_date = df[\"Date\"].iloc[-1]\n",
    "future_dates = pd.bdate_range(last_date + pd.Timedelta(days=1), periods=H)\n",
    "\n",
    "arima_future = pd.DataFrame({\n",
    "    \"Date\": future_dates,\n",
    "    \"ARIMA_Forecast\": arima_fc,\n",
    "    \"ARIMA_Lower\": arima_ci[:,0],\n",
    "    \"ARIMA_Upper\": arima_ci[:,1],\n",
    "})\n",
    "\n",
    "arima_path = CSV_DIR / f\"arima_future_{FORECAST_MONTHS}m.csv\"\n",
    "arima_future.to_csv(arima_path, index=False)\n",
    "print(\"Saved ARIMA future:\", arima_path)\n",
    "arima_future.head()\n"
   ]
  },
  {
   "cell_type": "code",
   "execution_count": null,
   "id": "83a21ce5",
   "metadata": {
    "vscode": {
     "languageId": "plaintext"
    }
   },
   "outputs": [],
   "source": [
    "# Scale on full series\n",
    "scaler = MinMaxScaler(feature_range=(0,1))\n",
    "scaled = scaler.fit_transform(series.reshape(-1,1))\n",
    "\n",
    "def make_sequences(data, time_step=60):\n",
    "    X, y = [], []\n",
    "    for i in range(len(data) - time_step):\n",
    "        X.append(data[i:(i+time_step), 0])\n",
    "        y.append(data[i + time_step, 0])\n",
    "    X = np.array(X); y = np.array(y)\n",
    "    return X.reshape(X.shape[0], X.shape[1], 1), y\n",
    "\n",
    "X, y = make_sequences(scaled, TIME_STEP)\n",
    "\n",
    "model = Sequential([\n",
    "    LSTM(64, return_sequences=True, input_shape=(TIME_STEP,1)),\n",
    "    LSTM(64, return_sequences=False),\n",
    "    Dense(32),\n",
    "    Dense(1)\n",
    "])\n",
    "model.compile(optimizer=\"adam\", loss=\"mean_squared_error\")\n",
    "hist = model.fit(X, y, epochs=EPOCHS, batch_size=BATCH_SIZE, verbose=1)\n",
    "\n",
    "# Recursive forecast\n",
    "last_window = scaled[-TIME_STEP:].copy().reshape(1, TIME_STEP, 1)\n",
    "lstm_preds_scaled = []\n",
    "\n",
    "for _ in range(H):\n",
    "    pred = model.predict(last_window, verbose=0)\n",
    "    lstm_preds_scaled.append(pred[0,0])\n",
    "    last_window = np.append(last_window[:,1:,:], pred.reshape(1,1,1), axis=1)\n",
    "\n",
    "lstm_preds = scaler.inverse_transform(np.array(lstm_preds_scaled).reshape(-1,1)).flatten()\n",
    "\n",
    "lstm_future = pd.DataFrame({\n",
    "    \"Date\": pd.bdate_range(df[\"Date\"].iloc[-1] + pd.Timedelta(days=1), periods=H),\n",
    "    \"LSTM_Forecast\": lstm_preds\n",
    "})\n",
    "\n",
    "lstm_path = CSV_DIR / f\"lstm_future_{FORECAST_MONTHS}m.csv\"\n",
    "lstm_future.to_csv(lstm_path, index=False)\n",
    "print(\"Saved LSTM future:\", lstm_path)\n",
    "lstm_future.head()\n"
   ]
  },
  {
   "cell_type": "code",
   "execution_count": null,
   "id": "7587c313",
   "metadata": {
    "vscode": {
     "languageId": "plaintext"
    }
   },
   "outputs": [],
   "source": [
    "# Limit history to last ~2 years for clarity\n",
    "hist_mask = df[\"Date\"] >= (df[\"Date\"].max() - pd.Timedelta(days=365*2))\n",
    "hist_df = df.loc[hist_mask].copy()\n",
    "\n",
    "plt.figure(figsize=(14,6))\n",
    "plt.plot(hist_df[\"Date\"], hist_df[TARGET_COL], label=\"Historical (last ~2y)\", linewidth=1.5, color=\"gray\")\n",
    "\n",
    "# ARIMA with CI\n",
    "plt.plot(arima_future[\"Date\"], arima_future[\"ARIMA_Forecast\"], label=\"ARIMA Forecast\", linewidth=2, color=\"tab:green\")\n",
    "plt.fill_between(\n",
    "    arima_future[\"Date\"].values,\n",
    "    arima_future[\"ARIMA_Lower\"].values,\n",
    "    arima_future[\"ARIMA_Upper\"].values,\n",
    "    alpha=0.2, label=\"ARIMA 95% CI\", color=\"tab:green\"\n",
    ")\n",
    "\n",
    "# LSTM line\n",
    "plt.plot(lstm_future[\"Date\"], lstm_future[\"LSTM_Forecast\"], label=\"LSTM Forecast\", linewidth=2, color=\"tab:red\")\n",
    "\n",
    "plt.title(f\"{TICKER} — {FORECAST_MONTHS}-Month Forecast (ARIMA vs LSTM)\")\n",
    "plt.xlabel(\"Date\"); plt.ylabel(\"Price\")\n",
    "plt.legend()\n",
    "plt.tight_layout()\n",
    "\n",
    "fig_path = FIG_DIR / f\"forecast_comparison_{FORECAST_MONTHS}m.png\"\n",
    "plt.savefig(fig_path, dpi=160)\n",
    "plt.show()\n",
    "print(\"Saved figure:\", fig_path)\n"
   ]
  },
  {
   "cell_type": "code",
   "execution_count": null,
   "id": "3bb61dd2",
   "metadata": {
    "vscode": {
     "languageId": "plaintext"
    }
   },
   "outputs": [],
   "source": [
    "# --- Trend slope (simple linear fit) on each forecast\n",
    "x_ar = np.arange(len(arima_future))\n",
    "slope_arima = np.polyfit(x_ar, arima_future[\"ARIMA_Forecast\"].values, 1)[0]\n",
    "\n",
    "x_ls = np.arange(len(lstm_future))\n",
    "slope_lstm = np.polyfit(x_ls, lstm_future[\"LSTM_Forecast\"].values, 1)[0]\n",
    "\n",
    "# --- ARIMA CI width stats\n",
    "ci_width = arima_future[\"ARIMA_Upper\"] - arima_future[\"ARIMA_Lower\"]\n",
    "ci_stats = {\n",
    "    \"mean_width\": float(ci_width.mean()),\n",
    "    \"median_width\": float(ci_width.median()),\n",
    "    \"min_width\": float(ci_width.min()),\n",
    "    \"max_width\": float(ci_width.max()),\n",
    "    \"start_width\": float(ci_width.iloc[0]),\n",
    "    \"end_width\": float(ci_width.iloc[-1]),\n",
    "    \"pct_increase_start_to_end\": float((ci_width.iloc[-1] - ci_width.iloc[0]) / ci_width.iloc[0] * 100 if ci_width.iloc[0] != 0 else np.nan)\n",
    "}\n",
    "\n",
    "# --- Textual analysis\n",
    "trend_arima = \"upward\" if slope_arima > 0 else (\"downward\" if slope_arima < 0 else \"flat\")\n",
    "trend_lstm  = \"upward\" if slope_lstm  > 0 else (\"downward\" if slope_lstm  < 0 else \"flat\")\n",
    "\n",
    "analysis_lines = []\n",
    "analysis_lines.append(f\"Ticker: {TICKER}\")\n",
    "analysis_lines.append(f\"Forecast horizon: {FORECAST_MONTHS} months (~{H} trading days)\")\n",
    "analysis_lines.append(\"\")\n",
    "analysis_lines.append(\"Trend Analysis:\")\n",
    "analysis_lines.append(f\" - ARIMA trend: {trend_arima} (slope={slope_arima:.4f})\")\n",
    "analysis_lines.append(f\" - LSTM  trend: {trend_lstm}  (slope={slope_lstm:.4f})\")\n",
    "analysis_lines.append(\"\")\n",
    "analysis_lines.append(\"Volatility & Uncertainty (ARIMA 95% CI):\")\n",
    "analysis_lines.append(f\" - Mean CI width:  {ci_stats['mean_width']:.2f}\")\n",
    "analysis_lines.append(f\" - Median CI width:{ci_stats['median_width']:.2f}\")\n",
    "analysis_lines.append(f\" - Start width:    {ci_stats['start_width']:.2f}\")\n",
    "analysis_lines.append(f\" - End width:      {ci_stats['end_width']:.2f}\")\n",
    "analysis_lines.append(f\" - Min/Max width:  {ci_stats['min_width']:.2f} / {ci_stats['max_width']:.2f}\")\n",
    "analysis_lines.append(f\" - % change (start→end): {ci_stats['pct_increase_start_to_end']:.2f}%\")\n",
    "analysis_lines.append(\"\")\n",
    "analysis_lines.append(\"Interpretation:\")\n",
    "analysis_lines.append(\" - Confidence intervals typically widen across the horizon, reflecting increasing uncertainty in longer-term forecasts.\")\n",
    "analysis_lines.append(\" - Wider CIs imply lower reliability for point estimates farther into the future; use ranges instead of single values for decisions.\")\n",
    "analysis_lines.append(\"\")\n",
    "analysis_lines.append(\"Opportunities & Risks (Illustrative):\")\n",
    "if slope_arima > 0 or slope_lstm > 0:\n",
    "    analysis_lines.append(\" - Opportunity: Upward trend suggests potential price appreciation if macro/firm-specific conditions remain supportive.\")\n",
    "else:\n",
    "    analysis_lines.append(\" - Risk: Downward/flat trend may indicate headwinds or limited upside; caution on long exposure.\")\n",
    "\n",
    "analysis_lines.append(\" - Risk: CI widening highlights scenario risk; consider hedging and rebalancing thresholds.\")\n",
    "analysis_lines.append(\" - Consider sensitivity to shocks (earnings, rate changes, macro events).\")\n",
    "\n",
    "summary_txt = \"\\n\".join(analysis_lines)\n",
    "summary_path = FINAL_DIR / f\"forecast_analysis_summary_{FORECAST_MONTHS}m.txt\"\n",
    "with open(summary_path, \"w\") as f:\n",
    "    f.write(summary_txt)\n",
    "\n",
    "print(summary_txt)\n",
    "print(\"\\nSaved summary:\", summary_path)\n"
   ]
  },
  {
   "cell_type": "code",
   "execution_count": null,
   "id": "847fbbbd",
   "metadata": {
    "vscode": {
     "languageId": "plaintext"
    }
   },
   "outputs": [],
   "source": [
    "combined = pd.merge(\n",
    "    arima_future.rename(columns={\n",
    "        \"ARIMA_Forecast\":\"ARIMA\",\n",
    "        \"ARIMA_Lower\":\"ARIMA_Lower\",\n",
    "        \"ARIMA_Upper\":\"ARIMA_Upper\"\n",
    "    }),\n",
    "    lstm_future.rename(columns={\"LSTM_Forecast\":\"LSTM\"}),\n",
    "    on=\"Date\",\n",
    "    how=\"outer\"\n",
    ").sort_values(\"Date\")\n",
    "\n",
    "combined_path = CSV_DIR / f\"forecast_combined_{FORECAST_MONTHS}m.csv\"\n",
    "combined.to_csv(combined_path, index=False)\n",
    "print(\"Saved combined forecast CSV:\", combined_path)\n",
    "combined.head()\n"
   ]
  }
 ],
 "metadata": {
  "language_info": {
   "name": "python"
  }
 },
 "nbformat": 4,
 "nbformat_minor": 5
}
