{
 "cells": [
  {
   "cell_type": "code",
   "execution_count": null,
   "metadata": {
    "vscode": {
     "languageId": "plaintext"
    }
   },
   "outputs": [],
   "source": [
    "# =========================\n",
    "# Imports & Paths\n",
    "# =========================\n",
    "import pandas as pd\n",
    "import numpy as np\n",
    "import matplotlib.pyplot as plt\n",
    "import seaborn as sns\n",
    "import os\n",
    "\n",
    "sns.set(style=\"whitegrid\", rc={\"figure.dpi\": 140})\n",
    "\n",
    "# Project paths\n",
    "BASE = os.path.abspath(os.path.join(os.path.dirname(__file__), \"..\"))\n",
    "RAW_DIR = os.path.join(BASE, \"data\", \"raw\")\n",
    "CSV_DIR = os.path.join(BASE, \"result\", \"csv\")\n",
    "FIG_DIR = os.path.join(BASE, \"result\", \"figures\")\n",
    "\n",
    "os.makedirs(FIG_DIR, exist_ok=True)\n",
    "\n",
    "# Sharpe ratio function\n",
    "def sharpe_ratio(returns, rf=0.0):\n",
    "    excess = returns - rf/252\n",
    "    return np.sqrt(252) * excess.mean() / (returns.std() + 1e-12)\n"
   ]
  },
  {
   "cell_type": "code",
   "execution_count": null,
   "metadata": {
    "vscode": {
     "languageId": "plaintext"
    }
   },
   "outputs": [],
   "source": [
    "# =========================\n",
    "# Load price data\n",
    "# =========================\n",
    "def load_price(path, col_name):\n",
    "    df = pd.read_csv(path, parse_dates=[\"Date\"])\n",
    "    df = df.sort_values(\"Date\")\n",
    "    return df[[\"Date\", \"Close\"]].rename(columns={\"Close\": col_name})\n",
    "\n",
    "tsla = load_price(os.path.join(RAW_DIR, \"TSLA_raw.csv\"), \"TSLA\")\n",
    "bnd  = load_price(os.path.join(RAW_DIR, \"BND_raw.csv\"), \"BND\")\n",
    "spy  = load_price(os.path.join(RAW_DIR, \"SPY_raw.csv\"), \"SPY\")\n",
    "\n",
    "prices = tsla.merge(bnd, on=\"Date\").merge(spy, on=\"Date\")\n"
   ]
  },
  {
   "cell_type": "code",
   "execution_count": null,
   "metadata": {
    "vscode": {
     "languageId": "plaintext"
    }
   },
   "outputs": [],
   "source": [
    "# =========================\n",
    "# Backtest period\n",
    "# =========================\n",
    "backtest_start = prices[\"Date\"].max() - pd.DateOffset(years=1)\n",
    "prices_bt = prices[prices[\"Date\"] >= backtest_start].reset_index(drop=True)\n",
    "\n",
    "print(f\" Backtest from {prices_bt['Date'].min().date()} to {prices_bt['Date'].max().date()}\")\n"
   ]
  },
  {
   "cell_type": "code",
   "execution_count": null,
   "metadata": {
    "vscode": {
     "languageId": "plaintext"
    }
   },
   "outputs": [],
   "source": [
    "# =========================\n",
    "# Load optimized weights\n",
    "# =========================\n",
    "summary_path = os.path.join(CSV_DIR, \"portfolio_optimization_summary.csv\")\n",
    "summary_df = pd.read_csv(summary_path)\n",
    "\n",
    "# Choose portfolio: \"Max Sharpe\" or \"Min Volatility\"\n",
    "portfolio_choice = \"Max Sharpe\"\n",
    "weights_row = summary_df.set_index(\"Portfolio\").loc[portfolio_choice]\n",
    "weights = np.array([weights_row[\"TSLA_w\"], weights_row[\"BND_w\"], weights_row[\"SPY_w\"]])\n",
    "\n",
    "print(f\"Using {portfolio_choice} weights:\", weights)\n"
   ]
  },
  {
   "cell_type": "code",
   "execution_count": null,
   "metadata": {
    "vscode": {
     "languageId": "plaintext"
    }
   },
   "outputs": [],
   "source": [
    "# =========================\n",
    "# Daily returns\n",
    "# =========================\n",
    "rets_bt = prices_bt.set_index(\"Date\").pct_change().dropna()\n",
    "\n",
    "# Strategy portfolio daily returns\n",
    "strategy_daily = (rets_bt * weights).sum(axis=1)\n",
    "\n",
    "# Benchmark: 60% SPY / 40% BND\n",
    "bm_weights = np.array([0.0, 0.4, 0.6])\n",
    "benchmark_daily = (rets_bt * bm_weights).sum(axis=1)\n"
   ]
  },
  {
   "cell_type": "code",
   "execution_count": null,
   "metadata": {
    "vscode": {
     "languageId": "plaintext"
    }
   },
   "outputs": [],
   "source": [
    "# =========================\n",
    "# Cumulative returns plot\n",
    "# =========================\n",
    "cum_strategy = (1 + strategy_daily).cumprod()\n",
    "cum_benchmark = (1 + benchmark_daily).cumprod()\n",
    "\n",
    "plt.figure(figsize=(10,6))\n",
    "plt.plot(cum_strategy, label=f\"Strategy ({portfolio_choice})\")\n",
    "plt.plot(cum_benchmark, label=\"Benchmark (60% SPY / 40% BND)\")\n",
    "plt.title(\"Portfolio Backtest — Last 1 Year\")\n",
    "plt.xlabel(\"Date\"); plt.ylabel(\"Cumulative Return\")\n",
    "plt.legend()\n",
    "plt.savefig(os.path.join(FIG_DIR, \"backtest_strategy_vs_benchmark.png\"), dpi=160)\n",
    "plt.show()\n"
   ]
  },
  {
   "cell_type": "code",
   "execution_count": null,
   "metadata": {
    "vscode": {
     "languageId": "plaintext"
    }
   },
   "outputs": [],
   "source": [
    "# =========================\n",
    "# Performance metrics\n",
    "# =========================\n",
    "metrics = pd.DataFrame({\n",
    "    \"Portfolio\": [portfolio_choice, \"Benchmark 60/40\"],\n",
    "    \"Total Return\": [cum_strategy.iloc[-1] - 1, cum_benchmark.iloc[-1] - 1],\n",
    "    \"Sharpe Ratio\": [sharpe_ratio(strategy_daily), sharpe_ratio(benchmark_daily)]\n",
    "})\n",
    "\n",
    "metrics_path = os.path.join(CSV_DIR, \"backtest_metrics.csv\")\n",
    "metrics.to_csv(metrics_path, index=False)\n",
    "metrics\n"
   ]
  },
  {
   "cell_type": "code",
   "execution_count": null,
   "metadata": {
    "vscode": {
     "languageId": "plaintext"
    }
   },
   "outputs": [],
   "source": [
    "# =========================\n",
    "# 🏁 CELL 8 — Verdict\n",
    "# =========================\n",
    "str_ret = float(cum_strategy.iloc[-1] - 1)\n",
    "bm_ret = float(cum_benchmark.iloc[-1] - 1)\n",
    "str_sharpe = sharpe_ratio(strategy_daily)\n",
    "bm_sharpe = sharpe_ratio(benchmark_daily)\n",
    "\n",
    "print(\"BACKTEST SUMMARY\")\n",
    "print(\"-------------------\")\n",
    "print(f\"Strategy  → Total Return: {str_ret*100:.2f}%, Sharpe: {str_sharpe:.3f}\")\n",
    "print(f\"Benchmark → Total Return: {bm_ret*100:.2f}%, Sharpe: {bm_sharpe:.3f}\")\n",
    "\n",
    "if str_ret > bm_ret and str_sharpe > bm_sharpe:\n",
    "    print(\"\\nThe strategy outperformed the benchmark in both return and risk-adjusted performance.\")\n",
    "elif str_ret > bm_ret:\n",
    "    print(\"\\n The strategy had higher returns but lower Sharpe ratio than the benchmark.\")\n",
    "elif str_sharpe > bm_sharpe:\n",
    "    print(\"\\n The strategy had a better Sharpe ratio but lower total returns.\")\n",
    "else:\n",
    "    print(\"\\n The strategy underperformed the benchmark in both return and risk-adjusted terms.\")\n",
    "\n",
    "print(\"\\n📄 Metrics saved to:\", metrics_path)\n",
    "print(\"🖼  Plot saved to:\", os.path.join(FIG_DIR, \"backtest_strategy_vs_benchmark.png\"))\n"
   ]
  }
 ],
 "metadata": {
  "language_info": {
   "name": "python"
  }
 },
 "nbformat": 4,
 "nbformat_minor": 2
}
