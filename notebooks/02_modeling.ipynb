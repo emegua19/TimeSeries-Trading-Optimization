{
 "cells": [
  {
   "cell_type": "code",
   "execution_count": null,
   "id": "68e6beb6",
   "metadata": {
    "vscode": {
     "languageId": "plaintext"
    }
   },
   "outputs": [],
   "source": [
    "# ============================================================\n",
    "# Install Dependencies (only once if needed)\n",
    "# ============================================================\n",
    "pip install numpy==1.26.4 pandas==2.1.4 scikit-learn==1.3.2 pmdarima==2.0.4 tensorflow==2.15.0 matplotlib seaborn statsmodels\n"
   ]
  },
  {
   "cell_type": "code",
   "execution_count": null,
   "id": "c1e5cc21",
   "metadata": {
    "vscode": {
     "languageId": "plaintext"
    }
   },
   "outputs": [],
   "source": [
    "# ============================================================\n",
    "# Imports & Paths\n",
    "# ============================================================\n",
    "import pandas as pd\n",
    "import numpy as np\n",
    "import matplotlib.pyplot as plt\n",
    "import seaborn as sns\n",
    "import math\n",
    "from sklearn.metrics import mean_absolute_error, mean_squared_error\n",
    "from sklearn.preprocessing import MinMaxScaler\n",
    "import pmdarima as pm\n",
    "from tensorflow.keras.models import Sequential\n",
    "from tensorflow.keras.layers import Dense, LSTM\n",
    "import os\n",
    "\n",
    "# Paths (LOCAL)\n",
    "DATA_PATH = \"data/raw/TSLA_raw.csv\"\n",
    "FIG_PATH = \"result/figures\"\n",
    "CSV_PATH = \"result/csv\"\n",
    "\n",
    "os.makedirs(FIG_PATH, exist_ok=True)\n",
    "os.makedirs(CSV_PATH, exist_ok=True)\n",
    "\n",
    "sns.set(style=\"whitegrid\", palette=\"muted\")\n"
   ]
  },
  {
   "cell_type": "code",
   "execution_count": null,
   "id": "7f0f3cd9",
   "metadata": {
    "vscode": {
     "languageId": "plaintext"
    }
   },
   "outputs": [],
   "source": [
    "# ============================================================\n",
    "# Load & Inspect Data\n",
    "# ============================================================\n",
    "df = pd.read_csv(DATA_PATH)\n",
    "df[\"Date\"] = pd.to_datetime(df[\"Date\"])\n",
    "df = df.sort_values(\"Date\").reset_index(drop=True)\n",
    "\n",
    "print(df.head())\n",
    "\n",
    "plt.figure(figsize=(12,5))\n",
    "plt.plot(df[\"Date\"], df[\"Close\"], label=\"Close Price\")\n",
    "plt.title(\"Tesla Stock Price History\")\n",
    "plt.xlabel(\"Date\")\n",
    "plt.ylabel(\"Price\")\n",
    "plt.legend()\n",
    "plt.savefig(f\"{FIG_PATH}/tsla_price_history.png\")\n",
    "plt.show()\n"
   ]
  },
  {
   "cell_type": "code",
   "execution_count": null,
   "id": "0b4071e7",
   "metadata": {
    "vscode": {
     "languageId": "plaintext"
    }
   },
   "outputs": [],
   "source": [
    "# ============================================================\n",
    "# Train/Test Split\n",
    "# ============================================================\n",
    "train_size = int(len(df) * 0.8)\n",
    "train = df.iloc[:train_size]\n",
    "test = df.iloc[train_size:]\n"
   ]
  },
  {
   "cell_type": "code",
   "execution_count": null,
   "id": "ed993285",
   "metadata": {
    "vscode": {
     "languageId": "plaintext"
    }
   },
   "outputs": [],
   "source": [
    "# ============================================================\n",
    "# ARIMA Model\n",
    "# ============================================================\n",
    "arima_model = pm.auto_arima(train[\"Close\"], seasonal=False, stepwise=True, suppress_warnings=True)\n",
    "n_test = len(test)\n",
    "arima_preds = arima_model.predict(n_periods=n_test)\n",
    "\n",
    "mae_arima = mean_absolute_error(test[\"Close\"], arima_preds)\n",
    "rmse_arima = math.sqrt(mean_squared_error(test[\"Close\"], arima_preds))\n",
    "mape_arima = np.mean(np.abs((test[\"Close\"] - arima_preds) / test[\"Close\"])) * 100\n",
    "\n",
    "pd.DataFrame({\n",
    "    \"Date\": test[\"Date\"].values,\n",
    "    \"Actual\": test[\"Close\"].values,\n",
    "    \"Predicted\": arima_preds\n",
    "}).to_csv(f\"{CSV_PATH}/arima_test_predictions.csv\", index=False)\n",
    "\n",
    "plt.figure(figsize=(10,5))\n",
    "plt.plot(train[\"Date\"], train[\"Close\"], label=\"Train\")\n",
    "plt.plot(test[\"Date\"], test[\"Close\"], label=\"Test\", color=\"orange\")\n",
    "plt.plot(test[\"Date\"], arima_preds, label=\"ARIMA Forecast\", color=\"red\")\n",
    "plt.legend()\n",
    "plt.title(\"Tesla Price Forecast - ARIMA\")\n",
    "plt.savefig(f\"{FIG_PATH}/arima_forecast.png\")\n",
    "plt.show()\n"
   ]
  },
  {
   "cell_type": "code",
   "execution_count": null,
   "id": "bcf6314c",
   "metadata": {
    "vscode": {
     "languageId": "plaintext"
    }
   },
   "outputs": [],
   "source": [
    "# ============================================================\n",
    "# LSTM Model\n",
    "# ============================================================\n",
    "scaler = MinMaxScaler(feature_range=(0,1))\n",
    "scaled_data = scaler.fit_transform(df[[\"Close\"]])\n",
    "\n",
    "time_step = 60\n",
    "def create_dataset(dataset, time_step=1):\n",
    "    X, Y = [], []\n",
    "    for i in range(len(dataset) - time_step):\n",
    "        X.append(dataset[i:(i+time_step), 0])\n",
    "        Y.append(dataset[i + time_step, 0])\n",
    "    return np.array(X), np.array(Y)\n",
    "\n",
    "train_data = scaled_data[:train_size]\n",
    "test_data = scaled_data[train_size - time_step:]\n",
    "\n",
    "X_train, y_train = create_dataset(train_data, time_step)\n",
    "X_test, y_test = create_dataset(test_data, time_step)\n",
    "\n",
    "X_train = X_train.reshape(X_train.shape[0], X_train.shape[1], 1)\n",
    "X_test = X_test.reshape(X_test.shape[0], X_test.shape[1], 1)\n",
    "\n",
    "model = Sequential([\n",
    "    LSTM(50, return_sequences=True, input_shape=(time_step, 1)),\n",
    "    LSTM(50, return_sequences=False),\n",
    "    Dense(25),\n",
    "    Dense(1)\n",
    "])\n",
    "model.compile(optimizer='adam', loss='mean_squared_error')\n",
    "model.fit(X_train, y_train, batch_size=32, epochs=20, verbose=1)\n",
    "\n",
    "train_predict = model.predict(X_train)\n",
    "test_predict = model.predict(X_test)\n",
    "\n",
    "train_predict_inv = scaler.inverse_transform(train_predict)\n",
    "y_train_inv = scaler.inverse_transform(y_train.reshape(-1, 1))\n",
    "test_predict_inv = scaler.inverse_transform(test_predict)\n",
    "y_test_inv = scaler.inverse_transform(y_test.reshape(-1, 1))\n",
    "\n",
    "test_dates = df.iloc[train_size:][\"Date\"].values[-len(test_predict_inv):]\n",
    "\n",
    "lstm_results = pd.DataFrame({\n",
    "    \"Date\": test_dates,\n",
    "    \"Actual\": y_test_inv.flatten(),\n",
    "    \"Predicted\": test_predict_inv.flatten()\n",
    "})\n",
    "lstm_results.to_csv(f\"{CSV_PATH}/lstm_test_predictions.csv\", index=False)\n",
    "\n",
    "plt.figure(figsize=(14,6))\n",
    "plt.plot(df[\"Date\"], df[\"Close\"], label=\"Full Actual Price\", color=\"lightgray\")\n",
    "plt.plot(lstm_results[\"Date\"], lstm_results[\"Actual\"], label=\"Actual (Test)\", color=\"blue\")\n",
    "plt.plot(lstm_results[\"Date\"], lstm_results[\"Predicted\"], label=\"LSTM Prediction\", color=\"red\")\n",
    "plt.xlabel(\"Date\")\n",
    "plt.ylabel(\"Price\")\n",
    "plt.title(\"Tesla Stock Price Prediction with LSTM\")\n",
    "plt.legend()\n",
    "plt.savefig(f\"{FIG_PATH}/lstm_forecast.png\")\n",
    "plt.show()\n"
   ]
  },
  {
   "cell_type": "code",
   "execution_count": null,
   "id": "8adcc662",
   "metadata": {
    "vscode": {
     "languageId": "plaintext"
    }
   },
   "outputs": [],
   "source": [
    "# ============================================================\n",
    "# Model Comparison\n",
    "# ============================================================\n",
    "def calculate_metrics(actual, predicted):\n",
    "    mae = mean_absolute_error(actual, predicted)\n",
    "    rmse = np.sqrt(mean_squared_error(actual, predicted))\n",
    "    mape = np.mean(np.abs((actual - predicted) / actual)) * 100\n",
    "    return mae, rmse, mape\n",
    "\n",
    "aligned_arima_preds = arima_preds[-len(lstm_results):]\n",
    "lstm_mae, lstm_rmse, lstm_mape = calculate_metrics(lstm_results[\"Actual\"], lstm_results[\"Predicted\"])\n",
    "arima_mae, arima_rmse, arima_mape = calculate_metrics(lstm_results[\"Actual\"], aligned_arima_preds)\n",
    "\n",
    "metrics_df = pd.DataFrame({\n",
    "    \"Model\": [\"LSTM\", \"ARIMA\"],\n",
    "    \"MAE\": [lstm_mae, arima_mae],\n",
    "    \"RMSE\": [lstm_rmse, arima_rmse],\n",
    "    \"MAPE\": [lstm_mape, arima_mape]\n",
    "})\n",
    "metrics_df.to_csv(f\"{CSV_PATH}/metrics_test.csv\", index=False)\n",
    "\n",
    "plt.figure(figsize=(14,6))\n",
    "plt.plot(lstm_results[\"Date\"], lstm_results[\"Actual\"], label=\"Actual (Test)\", color=\"black\")\n",
    "plt.plot(lstm_results[\"Date\"], lstm_results[\"Predicted\"], label=\"LSTM Prediction\", color=\"red\")\n",
    "plt.plot(lstm_results[\"Date\"], aligned_arima_preds, label=\"ARIMA Prediction\", color=\"green\")\n",
    "plt.xlabel(\"Date\")\n",
    "plt.ylabel(\"Stock Price\")\n",
    "plt.title(\"Tesla Stock Price Prediction: LSTM vs ARIMA\")\n",
    "plt.legend()\n",
    "plt.savefig(f\"{FIG_PATH}/comparison_forecast.png\")\n",
    "plt.show()\n"
   ]
  },
  {
   "cell_type": "code",
   "execution_count": null,
   "id": "fa165daf",
   "metadata": {
    "vscode": {
     "languageId": "plaintext"
    }
   },
   "outputs": [],
   "source": [
    "# ============================================================\n",
    "# Future 30-Day Forecast\n",
    "# ============================================================\n",
    "# ARIMA forecast\n",
    "arima_future = arima_model.predict(n_periods=30)\n",
    "last_date = df[\"Date\"].iloc[-1]\n",
    "arima_future_dates = pd.date_range(start=last_date + pd.Timedelta(days=1), periods=30)\n",
    "pd.DataFrame({\"Date\": arima_future_dates, \"Forecast\": arima_future}).to_csv(f\"{CSV_PATH}/arima_future_30d.csv\", index=False)\n",
    "\n",
    "# LSTM forecast\n",
    "last_data = scaled_data[-time_step:]\n",
    "future_predictions = []\n",
    "current_batch = last_data.reshape(1, time_step, 1)\n",
    "\n",
    "for _ in range(30):\n",
    "    pred = model.predict(current_batch)[0]\n",
    "    future_predictions.append(pred)\n",
    "    current_batch = np.append(current_batch[:,1:,:], [[pred]], axis=1)\n",
    "\n",
    "future_preds_inv = scaler.inverse_transform(future_predictions)\n",
    "lstm_future_dates = pd.date_range(start=last_date + pd.Timedelta(days=1), periods=30)\n",
    "pd.DataFrame({\"Date\": lstm_future_dates, \"Forecast\": future_preds_inv.flatten()}).to_csv(f\"{CSV_PATH}/lstm_future_30d.csv\", index=False)\n"
   ]
  }
 ],
 "metadata": {
  "language_info": {
   "name": "python"
  }
 },
 "nbformat": 4,
 "nbformat_minor": 5
}
